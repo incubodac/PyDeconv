{
 "cells": [
  {
   "cell_type": "markdown",
   "metadata": {},
   "source": [
    "### Trying PyDeconv on simulations"
   ]
  },
  {
   "cell_type": "code",
   "execution_count": 135,
   "metadata": {},
   "outputs": [
    {
     "name": "stdout",
     "output_type": "stream",
     "text": [
      "The autoreload extension is already loaded. To reload it, use:\n",
      "  %reload_ext autoreload\n"
     ]
    }
   ],
   "source": [
    "%load_ext autoreload\n",
    "%autoreload 2\n",
    "import numpy as np\n",
    "import pandas as pd\n",
    "import mne\n",
    "from pydeconv.utils import *\n",
    "from pydeconv.pydeconv_sims import *\n",
    "from pydeconv import *\n",
    "from sklearn.model_selection import KFold, GridSearchCV\n",
    "from sklearn.metrics import mean_squared_error\n",
    "%matplotlib qt \n",
    "\n",
    "\n",
    "# raw     = mne.io.read_raw_eeglab(data_path + \"629959_analysis.set\", preload=True)\n",
    "\n",
    "# # Initialize the model\n",
    "\n",
    "# rERP_model = PyDeconv(settings = settings , features = features, eeg = raw)\n",
    "# X_design = rERP_model.create_matrix()"
   ]
  },
  {
   "cell_type": "code",
   "execution_count": 136,
   "metadata": {},
   "outputs": [
    {
     "name": "stdout",
     "output_type": "stream",
     "text": [
      "No noise added\n",
      "Mean:    0.5043793354432318 \n",
      "Median:    0.08983867714928735\n",
      "Variance:  0.39902552302773203\n"
     ]
    }
   ],
   "source": [
    "#A VERY SIMPLE DISTRIBUTION WITH SMALL OVERLAP\n",
    "# sig = EEGSimulator(200, 500)\n",
    "# W_matrix = [[1]]\n",
    "# kernels = {\n",
    "#             0: {'onsets': [0, 0.19, 0.25], 'amplitudes': [0.1, -0.05, 0.04], 'widths': [0.05, 0.05, 0.07], 'weight':0.3},\n",
    "#             'modulation': {'ker_idx2mod': 1, 'mod': 'linear','dist': 'uniform', 'lims': [100, 600]}\n",
    "#         }\n",
    "\n",
    "# sig.create_isi_pdf(0, sample_size=100, lims=[.3, 1], dist_type='skewed', mode=.50, skew=0, scale=.5)\n",
    "\n",
    "\n",
    "sig = EEGSimulator(200, 500)\n",
    "W_matrix = [[0, 0.45, 0.45, 0.1],[0.9, 0, 0 , .1],[0.9, 0, 0,.1], [.33,.33,.33,0]]\n",
    "kernels = {\n",
    "            0: {'onsets': [0, 0.19, 0.25], 'amplitudes': [0.1, -0.05, 0.04], 'widths': [0.05, 0.05, 0.07], 'weight':0.3},\n",
    "            1: {'onsets': [0, 0.19, 0.25], 'amplitudes': [0.1, -0.05, 0.04], 'widths': [0.05, 0.05, 0.07], 'weight':0.3},\n",
    "            2: {'onsets': [0, 0.19, 0.25], 'amplitudes': [0.1, -0.07, 0.04], 'widths': [0.05, 0.05, 0.07], 'weight':0.3},\n",
    "            3: {'onsets': [0, 0.19, 0.25], 'amplitudes': [0.1, -0.07, 0.04], 'widths': [0.05, 0.05, 0.07], 'weight':0.3},\n",
    "            'modulation': {'ker_idx2mod': 1, 'mod': 'linear','dist': 'uniform', 'lims': [100, 600]}\n",
    "        }\n",
    "\n",
    "sig.create_isi_pdf(0, sample_size=100, lims=[.01, .15], dist_type='skewed', mode=.05, skew=0, scale=.01)\n",
    "sig.create_isi_pdf(1, sample_size=100, lims=[.1, .6], dist_type='skewed', mode=.3, skew=2, scale=.05)\n",
    "sig.create_isi_pdf(2, sample_size=100, lims=[.1, .6], dist_type='skewed', mode=.3, skew=2, scale=.05)\n",
    "sig.create_isi_pdf(3, sample_size=100, lims=[.1, .6], dist_type='uniform')\n",
    "\n",
    "\n",
    "# sig.combine_isi_pdf\n",
    "# sig.plot_isi_pdf(0)\n",
    "# sig.plot_isi_pdf(1)\n",
    "\n",
    "\n",
    "sig.simulate(noise=None,erp_ker=kernels,w_matrix=W_matrix)\n",
    "sig.plot_response_idx(0)\n",
    "sig.plot_response_idx(1)\n",
    "sig.plot_response_idx(2)\n",
    "plt.show()\n",
    "sig.plot_datanpsd()\n",
    "sig.data_stats()\n",
    "plt.show()\n"
   ]
  },
  {
   "cell_type": "code",
   "execution_count": 137,
   "metadata": {},
   "outputs": [],
   "source": [
    "# Simulating the histogram plot for the latencies difference in a separate window\n",
    "plt.figure()\n",
    "sig.evts['latencies'].diff().hist(bins=50)\n",
    "plt.title(\"Histogram of Latency Differences\")\n",
    "plt.xlabel(\"Latency Differences (ms)\")\n",
    "plt.ylabel(\"Frequency\")\n",
    "plt.show()\n"
   ]
  },
  {
   "cell_type": "code",
   "execution_count": 138,
   "metadata": {},
   "outputs": [
    {
     "name": "stdout",
     "output_type": "stream",
     "text": [
      "[[  1   0   1]\n",
      " [ 83   0   1]\n",
      " [133   0   1]\n",
      " [224   0   1]\n",
      " [268   0   1]]\n"
     ]
    }
   ],
   "source": [
    "import numpy as np\n",
    "\n",
    "# Copy and modify the event data\n",
    "evts = sig.evts.copy()\n",
    "\n",
    "# Set the event type to filter (event_id 1 for example)\n",
    "event_id1 = 1\n",
    "event_id2 = 2\n",
    "\n",
    "# Filter events where `type == event_id`\n",
    "filtered_evts = evts.loc[(evts['type'] == event_id1) | (evts['type'] == event_id2)]\n",
    "\n",
    "# Get the number of filtered events\n",
    "n_events = len(filtered_evts)\n",
    "\n",
    "# Ensure that latencies are integer values\n",
    "latencies = filtered_evts['latencies'].values.astype(int)\n",
    "\n",
    "# Create the events array for MNE\n",
    "# Column 1: Latencies\n",
    "# Column 2: Zeros (assuming no previous event values, hence zeros)\n",
    "# Column 3: Event types (all set to 1 since filtered for `event_id`)\n",
    "mne_events = np.column_stack((latencies,\n",
    "                              np.zeros(n_events, dtype=int),\n",
    "                              np.ones(n_events, dtype=int)))\n",
    "\n",
    "# Print or use `mne_events` as needed\n",
    "print(mne_events[:5])\n"
   ]
  },
  {
   "cell_type": "code",
   "execution_count": 139,
   "metadata": {},
   "outputs": [
    {
     "name": "stdout",
     "output_type": "stream",
     "text": [
      "Creating RawArray with float64 data, n_channels=1, n_times=100000\n",
      "    Range : 0 ... 99999 =      0.000 ...   199.998 secs\n",
      "Ready.\n"
     ]
    }
   ],
   "source": [
    "import mne\n",
    "\n",
    "# Parameters\n",
    "n_seconds = 200        # Duration of the signal in seconds\n",
    "sfreq = 500            # Sampling frequency in Hz\n",
    "n_samples = n_seconds * sfreq  # Total number of samples\n",
    "n_channels = 1         # Number of channels (virtual channel)\n",
    "\n",
    "# Create random data for the virtual channel (shape: [n_samples])\n",
    "data = sig.data\n",
    "\n",
    "# Reshape the data to be 2D (n_channels, n_samples)\n",
    "data = data.reshape((n_channels, n_samples))\n",
    "\n",
    "# Create MNE info object\n",
    "ch_names = ['VirtualEEG']  # Name of the virtual channel\n",
    "info = mne.create_info(ch_names=ch_names, sfreq=sfreq, ch_types='eeg')\n",
    "\n",
    "# Create the Raw object from the reshaped data array\n",
    "raw = mne.io.RawArray(data, info)\n",
    "\n",
    "\n"
   ]
  },
  {
   "cell_type": "code",
   "execution_count": 140,
   "metadata": {},
   "outputs": [
    {
     "name": "stdout",
     "output_type": "stream",
     "text": [
      "Not setting metadata\n",
      "561 matching events found\n",
      "Setting baseline interval to [-0.3, 0.0] sec\n",
      "Applying baseline correction (mode: mean)\n",
      "0 projection items activated\n",
      "Using data from preloaded Raw for 561 events and 501 original time points ...\n",
      "3 bad epochs dropped\n",
      "Need more than one channel to make topography for eeg. Disabling interactivity.\n"
     ]
    },
    {
     "data": {
      "image/png": "[encoded data removed]",
      "text/plain": [
       "<Figure size 640x300 with 1 Axes>"
      ]
     },
     "execution_count": 140,
     "metadata": {},
     "output_type": "execute_result"
    }
   ],
   "source": [
    "epochs = mne.Epochs(raw, mne_events,  tmin=-0.3, tmax=0.7, preload=True, event_repeated='drop')\n",
    "evk = epochs.average()\n",
    "evk.plot()\n"
   ]
  },
  {
   "cell_type": "code",
   "execution_count": 141,
   "metadata": {},
   "outputs": [
    {
     "data": {
      "text/html": [
       "<div>\n",
       "<style scoped>\n",
       "    .dataframe tbody tr th:only-of-type {\n",
       "        vertical-align: middle;\n",
       "    }\n",
       "\n",
       "    .dataframe tbody tr th {\n",
       "        vertical-align: top;\n",
       "    }\n",
       "\n",
       "    .dataframe thead th {\n",
       "        text-align: right;\n",
       "    }\n",
       "</style>\n",
       "<table border=\"1\" class=\"dataframe\">\n",
       "  <thead>\n",
       "    <tr style=\"text-align: right;\">\n",
       "      <th></th>\n",
       "      <th>latency</th>\n",
       "      <th>type</th>\n",
       "      <th>categorical</th>\n",
       "      <th>continuous</th>\n",
       "      <th>latencies</th>\n",
       "    </tr>\n",
       "  </thead>\n",
       "  <tbody>\n",
       "    <tr>\n",
       "      <th>0</th>\n",
       "      <td>NaN</td>\n",
       "      <td>0</td>\n",
       "      <td>NaN</td>\n",
       "      <td>NaN</td>\n",
       "      <td>0.000000</td>\n",
       "    </tr>\n",
       "    <tr>\n",
       "      <th>1</th>\n",
       "      <td>NaN</td>\n",
       "      <td>2</td>\n",
       "      <td>NaN</td>\n",
       "      <td>NaN</td>\n",
       "      <td>1.025517</td>\n",
       "    </tr>\n",
       "    <tr>\n",
       "      <th>2</th>\n",
       "      <td>NaN</td>\n",
       "      <td>0</td>\n",
       "      <td>NaN</td>\n",
       "      <td>NaN</td>\n",
       "      <td>73.185173</td>\n",
       "    </tr>\n",
       "    <tr>\n",
       "      <th>3</th>\n",
       "      <td>NaN</td>\n",
       "      <td>1</td>\n",
       "      <td>NaN</td>\n",
       "      <td>NaN</td>\n",
       "      <td>83.308382</td>\n",
       "    </tr>\n",
       "    <tr>\n",
       "      <th>4</th>\n",
       "      <td>NaN</td>\n",
       "      <td>0</td>\n",
       "      <td>NaN</td>\n",
       "      <td>NaN</td>\n",
       "      <td>138.742272</td>\n",
       "    </tr>\n",
       "    <tr>\n",
       "      <th>...</th>\n",
       "      <td>...</td>\n",
       "      <td>...</td>\n",
       "      <td>...</td>\n",
       "      <td>...</td>\n",
       "      <td>...</td>\n",
       "    </tr>\n",
       "    <tr>\n",
       "      <th>1195</th>\n",
       "      <td>NaN</td>\n",
       "      <td>2</td>\n",
       "      <td>NaN</td>\n",
       "      <td>NaN</td>\n",
       "      <td>55390.237099</td>\n",
       "    </tr>\n",
       "    <tr>\n",
       "      <th>1196</th>\n",
       "      <td>NaN</td>\n",
       "      <td>3</td>\n",
       "      <td>NaN</td>\n",
       "      <td>NaN</td>\n",
       "      <td>55449.478296</td>\n",
       "    </tr>\n",
       "    <tr>\n",
       "      <th>1197</th>\n",
       "      <td>NaN</td>\n",
       "      <td>0</td>\n",
       "      <td>NaN</td>\n",
       "      <td>NaN</td>\n",
       "      <td>55681.598429</td>\n",
       "    </tr>\n",
       "    <tr>\n",
       "      <th>1198</th>\n",
       "      <td>NaN</td>\n",
       "      <td>2</td>\n",
       "      <td>NaN</td>\n",
       "      <td>NaN</td>\n",
       "      <td>55685.801771</td>\n",
       "    </tr>\n",
       "    <tr>\n",
       "      <th>1199</th>\n",
       "      <td>NaN</td>\n",
       "      <td>0</td>\n",
       "      <td>NaN</td>\n",
       "      <td>NaN</td>\n",
       "      <td>55753.503195</td>\n",
       "    </tr>\n",
       "  </tbody>\n",
       "</table>\n",
       "<p>1200 rows × 5 columns</p>\n",
       "</div>"
      ],
      "text/plain": [
       "     latency  type categorical continuous     latencies\n",
       "0        NaN     0         NaN        NaN      0.000000\n",
       "1        NaN     2         NaN        NaN      1.025517\n",
       "2        NaN     0         NaN        NaN     73.185173\n",
       "3        NaN     1         NaN        NaN     83.308382\n",
       "4        NaN     0         NaN        NaN    138.742272\n",
       "...      ...   ...         ...        ...           ...\n",
       "1195     NaN     2         NaN        NaN  55390.237099\n",
       "1196     NaN     3         NaN        NaN  55449.478296\n",
       "1197     NaN     0         NaN        NaN  55681.598429\n",
       "1198     NaN     2         NaN        NaN  55685.801771\n",
       "1199     NaN     0         NaN        NaN  55753.503195\n",
       "\n",
       "[1200 rows x 5 columns]"
      ]
     },
     "execution_count": 141,
     "metadata": {},
     "output_type": "execute_result"
    }
   ],
   "source": [
    "evts"
   ]
  },
  {
   "cell_type": "code",
   "execution_count": 142,
   "metadata": {},
   "outputs": [],
   "source": [
    "import numpy as np\n",
    "import matplotlib.pyplot as plt\n",
    "\n",
    "# Parameters\n",
    "n_samples_per_epoch = 300# Number of samples per epoch\n",
    "sfreq = 500  # Sampling frequency (Hz)\n",
    "\n",
    "# EEG data (replace with actual data from sig object)\n",
    "data = sig.data  # Assuming data is a NumPy array (could be 1D or 2D)\n",
    "\n",
    "# Ensure data is 2D (shape: [n_channels, n_samples])\n",
    "if data.ndim == 1:\n",
    "    data = data[np.newaxis, :]  # Convert to shape (1, n_samples) if 1D\n",
    "\n",
    "n_channels, n_samples = data.shape\n",
    "\n",
    "# Latencies (in sample indices, from mne_events)\n",
    "latencies_samples = mne_events[:, 0].astype(int)  # Convert latencies to integer indices\n",
    "\n",
    "# Prepare to store epochs\n",
    "epochs = []\n",
    "\n",
    "# Extract epochs (1000 samples per epoch starting at each latency)\n",
    "for latency in latencies_samples:\n",
    "    # Make sure we don't go out of bounds\n",
    "    if latency + n_samples_per_epoch <= n_samples:\n",
    "        # Extract epoch data for all channels\n",
    "        epoch = data[:, latency:latency + n_samples_per_epoch]\n",
    "        epochs.append(epoch)\n",
    "\n",
    "# Convert epochs list to a NumPy array (shape: [n_epochs, n_channels, n_samples_per_epoch])\n",
    "epochs = np.array(epochs)\n",
    "\n",
    "# Average across epochs to get ERP (shape: [n_channels, n_samples_per_epoch])\n",
    "erp = np.mean(epochs, axis=0)\n",
    "\n",
    "# Plot the ERP (time-locked averaged signal for the first channel)\n",
    "time = np.arange(n_samples_per_epoch) / sfreq * 1000  # Time in milliseconds\n",
    "plt.plot(time, erp[0, :])  # Plotting the ERP for the first channel\n",
    "plt.xlabel('Time (ms)')\n",
    "plt.ylabel('Amplitude (µV)')\n",
    "plt.title('ERP Response - Channel 1')\n",
    "plt.show()\n"
   ]
  },
  {
   "cell_type": "code",
   "execution_count": 143,
   "metadata": {},
   "outputs": [],
   "source": [
    "\n",
    "# Plot vertical lines at these positions\n",
    "plt.figure(figsize=(8, 4))\n",
    "for onset in sig.onsets:\n",
    "    plt.axvline(x=onset, color='r', linestyle='--')\n",
    "plt.plot(sig.data)\n",
    "\n",
    "plt.title('Onset Positions')\n",
    "plt.xlabel('Index')\n",
    "plt.ylabel('Amplitude')\n",
    "plt.show()"
   ]
  },
  {
   "cell_type": "code",
   "execution_count": 146,
   "metadata": {},
   "outputs": [
    {
     "data": {
      "text/plain": [
       "type\n",
       "0    546\n",
       "1    298\n",
       "2    263\n",
       "3     93\n",
       "Name: count, dtype: int64"
      ]
     },
     "execution_count": 146,
     "metadata": {},
     "output_type": "execute_result"
    }
   ],
   "source": [
    "evts['type'].value_counts()"
   ]
  },
  {
   "cell_type": "code",
   "execution_count": null,
   "metadata": {},
   "outputs": [],
   "source": []
  },
  {
   "cell_type": "code",
   "execution_count": null,
   "metadata": {},
   "outputs": [],
   "source": []
  }
 ],
 "metadata": {
  "kernelspec": {
   "display_name": "MNEunfold3.10",
   "language": "python",
   "name": "python3"
  },
  "language_info": {
   "codemirror_mode": {
    "name": "ipython",
    "version": 3
   },
   "file_extension": ".py",
   "mimetype": "text/x-python",
   "name": "python",
   "nbconvert_exporter": "python",
   "pygments_lexer": "ipython3",
   "version": "3.10.0"
  }
 },
 "nbformat": 4,
 "nbformat_minor": 2
}
