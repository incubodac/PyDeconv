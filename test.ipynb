{
 "cells": [
  {
   "cell_type": "code",
   "execution_count": 1,
   "metadata": {},
   "outputs": [
    {
     "data": {
      "text/plain": [
       "'/Users/dac/Documents/repos/PyDeconv'"
      ]
     },
     "execution_count": 1,
     "metadata": {},
     "output_type": "execute_result"
    }
   ],
   "source": [
    "pwd"
   ]
  },
  {
   "cell_type": "code",
   "execution_count": 2,
   "metadata": {},
   "outputs": [],
   "source": [
    "import pandas as pd "
   ]
  },
  {
   "cell_type": "code",
   "execution_count": 3,
   "metadata": {},
   "outputs": [],
   "source": [
    "fets = pd.read_csv('example_data/629959_full_metadata.csv')"
   ]
  },
  {
   "cell_type": "code",
   "execution_count": 4,
   "metadata": {},
   "outputs": [
    {
     "data": {
      "text/plain": [
       "array(['fixation'], dtype=object)"
      ]
     },
     "execution_count": 4,
     "metadata": {},
     "output_type": "execute_result"
    }
   ],
   "source": [
    "fets['type'].unique()"
   ]
  },
  {
   "cell_type": "code",
   "execution_count": 52,
   "metadata": {},
   "outputs": [
    {
     "data": {
      "text/plain": [
       "array([  5.    ,  29.6875,  54.375 ,  79.0625, 103.75  , 128.4375,\n",
       "       153.125 , 177.8125, 202.5   , 227.1875, 251.875 , 276.5625,\n",
       "       301.25  , 325.9375, 350.625 , 375.3125, 400.    ])"
      ]
     },
     "execution_count": 52,
     "metadata": {},
     "output_type": "execute_result"
    }
   ],
   "source": [
    "import numpy as np\n",
    "np.linspace(5, 400, 17)"
   ]
  },
  {
   "cell_type": "code",
   "execution_count": 53,
   "metadata": {},
   "outputs": [
    {
     "name": "stdout",
     "output_type": "stream",
     "text": [
      "Analyzing data with model: targMin\n",
      "Time range: -0.2 to 0.5\n",
      "Solver: ridge\n",
      "Alpha value: CV\n",
      "Alpha value: CV\n",
      "(6189, 30)\n",
      "Reading /home/dac/Documents/Repos/PyDeconv/example_data/629959_analysis.fdt\n",
      "Reading 0 ... 1389499  =      0.000 ...  2778.998 secs...\n"
     ]
    },
    {
     "name": "stderr",
     "output_type": "stream",
     "text": [
      "/tmp/ipykernel_3284232/550254376.py:14: RuntimeWarning: Unknown types found, setting as type EEG:\n",
      "eye: ['L-AREA', 'L-GAZE-X', 'L-GAZE-Y', 'TIME']\n",
      "  raw     = mne.io.read_raw_eeglab(data_path + \"629959_analysis.set\", preload=True)\n",
      "/tmp/ipykernel_3284232/550254376.py:14: RuntimeWarning: Not setting positions of 8 misc channels found in montage:\n",
      "['EXG1', 'EXG2', 'EXG3', 'EXG4', 'EXG5', 'EXG6', 'EXG7', 'EXG8']\n",
      "Consider setting the channel types to be of EEG/sEEG/ECoG/DBS/fNIRS using inst.set_channel_types before calling inst.set_montage, or omit these channels when creating your montage.\n",
      "  raw     = mne.io.read_raw_eeglab(data_path + \"629959_analysis.set\", preload=True)\n",
      "/home/dac/Documents/Repos/PyDeconv/pydeconv/pydeconv.py:370: SettingWithCopyWarning: \n",
      "A value is trying to be set on a copy of a slice from a DataFrame.\n",
      "Try using .loc[row_indexer,col_indexer] = value instead\n",
      "\n",
      "See the caveats in the documentation: https://pandas.pydata.org/pandas-docs/stable/user_guide/indexing.html#returning-a-view-versus-a-copy\n",
      "  evt_to_model['type'] = 1 #set intercept column to 1\n"
     ]
    },
    {
     "name": "stdout",
     "output_type": "stream",
     "text": [
      "\n",
      "========================================\n",
      "Model Name: targMin\n",
      "First Intercept Event Type: fixation\n",
      "Second Intercept Event Type: saccade\n",
      "Sampling Frequency: 500.0\n",
      "Time Window: -0.2 to 0.5\n",
      "Channels to Analyze: 64\n",
      "\n",
      "Model Description:\n",
      "Intercept: True\n",
      "Additive Features: ['ontarget']\n",
      "Interactions: None\n",
      "========================================\n",
      "\n",
      "WARNING: B-SPLINES ARE BEING APPLIED\n",
      "creating default splines: 5 cubic B-splines matrix\n"
     ]
    }
   ],
   "source": [
    "\n",
    "import pandas as pd\n",
    "import mne\n",
    "from pydeconv.utils import *\n",
    "from pydeconv import *\n",
    "from sklearn.model_selection import KFold, GridSearchCV\n",
    "from sklearn.metrics import mean_squared_error\n",
    "\n",
    "\n",
    "# Load parameter, data and features\n",
    "data_path = \"./example_data/\"\n",
    "settings = analyze_data()\n",
    "features = pd.read_csv(data_path + \"629959_full_metadata.csv\") \n",
    "print(features.shape)\n",
    "raw     = mne.io.read_raw_eeglab(data_path + \"629959_analysis.set\", preload=True)\n",
    "\n",
    "# Initialize the model\n",
    "\n",
    "rERP_model = PyDeconv(settings = settings , features = features, eeg = raw)\n",
    "X_design = rERP_model.create_matrix()"
   ]
  },
  {
   "cell_type": "code",
   "execution_count": 54,
   "metadata": {},
   "outputs": [
    {
     "data": {
      "text/plain": [
       "<1389500x2457 sparse matrix of type '<class 'numpy.float64'>'\n",
       "\twith 5766930 stored elements in Compressed Sparse Row format>"
      ]
     },
     "execution_count": 54,
     "metadata": {},
     "output_type": "execute_result"
    }
   ],
   "source": [
    "X_design"
   ]
  },
  {
   "cell_type": "code",
   "execution_count": null,
   "metadata": {},
   "outputs": [],
   "source": []
  }
 ],
 "metadata": {
  "kernelspec": {
   "display_name": "MNEunfold3.10",
   "language": "python",
   "name": "python3"
  },
  "language_info": {
   "codemirror_mode": {
    "name": "ipython",
    "version": 3
   },
   "file_extension": ".py",
   "mimetype": "text/x-python",
   "name": "python",
   "nbconvert_exporter": "python",
   "pygments_lexer": "ipython3",
   "version": "3.10.0"
  }
 },
 "nbformat": 4,
 "nbformat_minor": 2
}
