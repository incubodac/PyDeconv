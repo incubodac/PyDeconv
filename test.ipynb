{
 "cells": [
  {
   "cell_type": "code",
   "execution_count": 1,
   "metadata": {},
   "outputs": [
    {
     "data": {
      "text/plain": [
       "'/Users/dac/Documents/repos/PyDeconv'"
      ]
     },
     "execution_count": 1,
     "metadata": {},
     "output_type": "execute_result"
    }
   ],
   "source": [
    "pwd"
   ]
  },
  {
   "cell_type": "code",
   "execution_count": 2,
   "metadata": {},
   "outputs": [],
   "source": [
    "import pandas as pd "
   ]
  },
  {
   "cell_type": "code",
   "execution_count": 5,
   "metadata": {},
   "outputs": [
    {
     "data": {
      "text/html": [
       "<div>\n",
       "<style scoped>\n",
       "    .dataframe tbody tr th:only-of-type {\n",
       "        vertical-align: middle;\n",
       "    }\n",
       "\n",
       "    .dataframe tbody tr th {\n",
       "        vertical-align: top;\n",
       "    }\n",
       "\n",
       "    .dataframe thead th {\n",
       "        text-align: right;\n",
       "    }\n",
       "</style>\n",
       "<table border=\"1\" class=\"dataframe\">\n",
       "  <thead>\n",
       "    <tr style=\"text-align: right;\">\n",
       "      <th></th>\n",
       "      <th>type</th>\n",
       "      <th>latency</th>\n",
       "      <th>duration</th>\n",
       "      <th>ontarget</th>\n",
       "      <th>mss</th>\n",
       "      <th>sac_amplitude</th>\n",
       "    </tr>\n",
       "  </thead>\n",
       "  <tbody>\n",
       "    <tr>\n",
       "      <th>0</th>\n",
       "      <td>fixation</td>\n",
       "      <td>64227.0</td>\n",
       "      <td>82</td>\n",
       "      <td>False</td>\n",
       "      <td>1.0</td>\n",
       "      <td>3.239638</td>\n",
       "    </tr>\n",
       "    <tr>\n",
       "      <th>1</th>\n",
       "      <td>fixation</td>\n",
       "      <td>64334.0</td>\n",
       "      <td>122</td>\n",
       "      <td>False</td>\n",
       "      <td>1.0</td>\n",
       "      <td>4.684916</td>\n",
       "    </tr>\n",
       "    <tr>\n",
       "      <th>2</th>\n",
       "      <td>fixation</td>\n",
       "      <td>64488.0</td>\n",
       "      <td>59</td>\n",
       "      <td>False</td>\n",
       "      <td>1.0</td>\n",
       "      <td>8.607204</td>\n",
       "    </tr>\n",
       "    <tr>\n",
       "      <th>3</th>\n",
       "      <td>fixation</td>\n",
       "      <td>64556.0</td>\n",
       "      <td>150</td>\n",
       "      <td>False</td>\n",
       "      <td>1.0</td>\n",
       "      <td>1.264869</td>\n",
       "    </tr>\n",
       "    <tr>\n",
       "      <th>4</th>\n",
       "      <td>fixation</td>\n",
       "      <td>64739.0</td>\n",
       "      <td>73</td>\n",
       "      <td>False</td>\n",
       "      <td>1.0</td>\n",
       "      <td>10.430416</td>\n",
       "    </tr>\n",
       "    <tr>\n",
       "      <th>...</th>\n",
       "      <td>...</td>\n",
       "      <td>...</td>\n",
       "      <td>...</td>\n",
       "      <td>...</td>\n",
       "      <td>...</td>\n",
       "      <td>...</td>\n",
       "    </tr>\n",
       "    <tr>\n",
       "      <th>2938</th>\n",
       "      <td>fixation</td>\n",
       "      <td>1381364.0</td>\n",
       "      <td>133</td>\n",
       "      <td>False</td>\n",
       "      <td>0.0</td>\n",
       "      <td>0.467453</td>\n",
       "    </tr>\n",
       "    <tr>\n",
       "      <th>2939</th>\n",
       "      <td>fixation</td>\n",
       "      <td>1381527.0</td>\n",
       "      <td>87</td>\n",
       "      <td>False</td>\n",
       "      <td>0.0</td>\n",
       "      <td>7.029139</td>\n",
       "    </tr>\n",
       "    <tr>\n",
       "      <th>2940</th>\n",
       "      <td>fixation</td>\n",
       "      <td>1381629.0</td>\n",
       "      <td>85</td>\n",
       "      <td>False</td>\n",
       "      <td>0.0</td>\n",
       "      <td>2.221470</td>\n",
       "    </tr>\n",
       "    <tr>\n",
       "      <th>2941</th>\n",
       "      <td>fixation</td>\n",
       "      <td>1381876.0</td>\n",
       "      <td>126</td>\n",
       "      <td>False</td>\n",
       "      <td>0.0</td>\n",
       "      <td>2.155837</td>\n",
       "    </tr>\n",
       "    <tr>\n",
       "      <th>2942</th>\n",
       "      <td>fixation</td>\n",
       "      <td>1382025.0</td>\n",
       "      <td>233</td>\n",
       "      <td>True</td>\n",
       "      <td>0.0</td>\n",
       "      <td>5.532805</td>\n",
       "    </tr>\n",
       "  </tbody>\n",
       "</table>\n",
       "<p>2943 rows × 6 columns</p>\n",
       "</div>"
      ],
      "text/plain": [
       "          type    latency  duration  ontarget  mss  sac_amplitude\n",
       "0     fixation    64227.0        82     False  1.0       3.239638\n",
       "1     fixation    64334.0       122     False  1.0       4.684916\n",
       "2     fixation    64488.0        59     False  1.0       8.607204\n",
       "3     fixation    64556.0       150     False  1.0       1.264869\n",
       "4     fixation    64739.0        73     False  1.0      10.430416\n",
       "...        ...        ...       ...       ...  ...            ...\n",
       "2938  fixation  1381364.0       133     False  0.0       0.467453\n",
       "2939  fixation  1381527.0        87     False  0.0       7.029139\n",
       "2940  fixation  1381629.0        85     False  0.0       2.221470\n",
       "2941  fixation  1381876.0       126     False  0.0       2.155837\n",
       "2942  fixation  1382025.0       233      True  0.0       5.532805\n",
       "\n",
       "[2943 rows x 6 columns]"
      ]
     },
     "execution_count": 5,
     "metadata": {},
     "output_type": "execute_result"
    }
   ],
   "source": [
    "pd.read_csv('example_data/629959_full_metadata.csv')"
   ]
  },
  {
   "cell_type": "code",
   "execution_count": null,
   "metadata": {},
   "outputs": [],
   "source": []
  }
 ],
 "metadata": {
  "kernelspec": {
   "display_name": "MNEunfold3.10",
   "language": "python",
   "name": "python3"
  },
  "language_info": {
   "codemirror_mode": {
    "name": "ipython",
    "version": 3
   },
   "file_extension": ".py",
   "mimetype": "text/x-python",
   "name": "python",
   "nbconvert_exporter": "python",
   "pygments_lexer": "ipython3",
   "version": "3.10.0"
  }
 },
 "nbformat": 4,
 "nbformat_minor": 2
}
